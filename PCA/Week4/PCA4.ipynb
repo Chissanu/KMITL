{
  "cells": [
    {
      "cell_type": "code",
      "execution_count": 6,
      "metadata": {
        "id": "_8bSmW-Hevix"
      },
      "outputs": [
        {
          "ename": "ModuleNotFoundError",
          "evalue": "No module named 'matplotlib'",
          "output_type": "error",
          "traceback": [
            "\u001b[1;31m---------------------------------------------------------------------------\u001b[0m",
            "\u001b[1;31mModuleNotFoundError\u001b[0m                       Traceback (most recent call last)",
            "\u001b[1;32mc:\\Users\\Chissanu Laptop\\Desktop\\School\\PCA\\Week4\\PCA4.ipynb Cell 1\u001b[0m in \u001b[0;36m<cell line: 1>\u001b[1;34m()\u001b[0m\n\u001b[1;32m----> <a href='vscode-notebook-cell:/c%3A/Users/Chissanu%20Laptop/Desktop/School/PCA/Week4/PCA4.ipynb#W0sZmlsZQ%3D%3D?line=0'>1</a>\u001b[0m \u001b[39mimport\u001b[39;00m \u001b[39mmatplotlib\u001b[39;00m \u001b[39mas\u001b[39;00m \u001b[39mplt\u001b[39;00m\n\u001b[0;32m      <a href='vscode-notebook-cell:/c%3A/Users/Chissanu%20Laptop/Desktop/School/PCA/Week4/PCA4.ipynb#W0sZmlsZQ%3D%3D?line=1'>2</a>\u001b[0m \u001b[39mimport\u001b[39;00m \u001b[39mnumpy\u001b[39;00m \u001b[39mas\u001b[39;00m \u001b[39mnp\u001b[39;00m\n",
            "\u001b[1;31mModuleNotFoundError\u001b[0m: No module named 'matplotlib'"
          ]
        }
      ],
      "source": [
        "import matplotlib.pyplot as plt\n",
        "import numpy as np"
      ]
    },
    {
      "cell_type": "code",
      "execution_count": 1,
      "metadata": {
        "id": "Xk47SQJUZsqy"
      },
      "outputs": [],
      "source": [
        "# O(n)\n",
        "def m01(n):\n",
        "  round = 0\n",
        "  sum = 0\n",
        "  while round < n:\n",
        "    sum = sum + 1\n",
        "    round = round + 1\n",
        "  for i in range(n):\n",
        "    \n",
        "  return sum"
      ]
    },
    {
      "cell_type": "code",
      "execution_count": null,
      "metadata": {
        "id": "hCbhaldGangj"
      },
      "outputs": [],
      "source": [
        "# O(n)\n",
        "def m02(n):\n",
        "  round = 0\n",
        "  sum = 0\n",
        "  while round < n:\n",
        "    sum = sum + 1\n",
        "    round = round + 2\n",
        "  return sum"
      ]
    },
    {
      "cell_type": "code",
      "execution_count": null,
      "metadata": {
        "id": "PBGSQAXLb-d8"
      },
      "outputs": [],
      "source": [
        "# O(n^2)\n",
        "def m03(n):\n",
        "  round1s = 0\n",
        "  sum = 0\n",
        "  while round1s < n:\n",
        "    round2s = 0\n",
        "    while round2s < n:\n",
        "      sum = sum + 1\n",
        "      round2s = round2s + 1\n",
        "    round1s = round1s + 1\n",
        "  return sum"
      ]
    },
    {
      "cell_type": "code",
      "execution_count": null,
      "metadata": {
        "id": "_66uEiB6cqom"
      },
      "outputs": [],
      "source": [
        "# O(n^2)\n",
        "def m04(n: int):\n",
        "    round1s = 0\n",
        "    sum = 0\n",
        "    while round1s < n:\n",
        "        round2s = 0\n",
        "        while round2s < n:\n",
        "            sum += 1\n",
        "            round2s += 10\n",
        "        round1s += 20\n",
        "    return sum"
      ]
    },
    {
      "cell_type": "code",
      "execution_count": null,
      "metadata": {
        "id": "uqvSRp6TcuX5"
      },
      "outputs": [],
      "source": [
        "# O(2n)\n",
        "def m05(n: int):\n",
        "    round1s = 0\n",
        "    sum = 0\n",
        "    while round1s < n:\n",
        "        sum += 1\n",
        "        round1s += 1\n",
        "\n",
        "    round2s = 0\n",
        "    while round2s < n:\n",
        "        sum += 1\n",
        "        round2s += 1\n",
        "    return sum"
      ]
    },
    {
      "cell_type": "code",
      "execution_count": null,
      "metadata": {
        "id": "xgohtsm0c1xH"
      },
      "outputs": [],
      "source": [
        "# O(n^3)\n",
        "def m06(n: int):\n",
        "    round1s = 0\n",
        "    sum = 0\n",
        "    while round1s < n:\n",
        "        round2s = 0\n",
        "        while round2s < (n*n):\n",
        "            sum += 1\n",
        "            round2s += 1\n",
        "        round1s += 1\n",
        "    return sum"
      ]
    },
    {
      "cell_type": "code",
      "execution_count": null,
      "metadata": {
        "id": "mIyxflbdc3DB"
      },
      "outputs": [],
      "source": [
        "# O(n^2)\n",
        "def m07(n: int):\n",
        "    round1s = 0\n",
        "    sum = 0\n",
        "    while round1s < n:\n",
        "        round2s = 0\n",
        "        while round2s < round1s:\n",
        "            sum += 1\n",
        "            round2s += 1\n",
        "        round1s += 1\n",
        "    return sum\n"
      ]
    },
    {
      "cell_type": "code",
      "execution_count": null,
      "metadata": {
        "id": "nRDlmmOVc46Q"
      },
      "outputs": [],
      "source": [
        "# O(n^2)\n",
        "def m08(n: int):\n",
        "    round1s = 0\n",
        "    sum = 0\n",
        "    while round1s < n:\n",
        "        round2s = 0\n",
        "        while round2s < (100*round1s):\n",
        "            sum += 1\n",
        "            round2s += 1\n",
        "        round1s += 1\n",
        "    return sum"
      ]
    },
    {
      "cell_type": "code",
      "execution_count": null,
      "metadata": {
        "id": "Cp4PEReUc7eN"
      },
      "outputs": [],
      "source": [
        "# O(n^4)\n",
        "def m09(n: int):\n",
        "    round1s = 0\n",
        "    sum = 0\n",
        "    while round1s < n:\n",
        "        round2s = 0\n",
        "        while round2s < (n*n):\n",
        "            round3s = 0\n",
        "            while round3s < round2s:\n",
        "                sum += 1\n",
        "                round3s += 1\n",
        "            round2s += 1\n",
        "        round1s += 1\n",
        "    return sum"
      ]
    },
    {
      "cell_type": "code",
      "execution_count": null,
      "metadata": {
        "id": "0flQps4ldDO7"
      },
      "outputs": [],
      "source": [
        "# O(log2 (n))\n",
        "def m10(n: int):\n",
        "    rounds = 1\n",
        "    sum = 0\n",
        "    while rounds < n:\n",
        "        sum += 1\n",
        "        rounds = rounds*2\n",
        "    return sum"
      ]
    },
    {
      "cell_type": "code",
      "execution_count": null,
      "metadata": {
        "id": "ognjQ7yodbfZ"
      },
      "outputs": [],
      "source": [
        "# O(log2 (n))\n",
        "def m11(n: int):\n",
        "    i = n\n",
        "    sum = 0\n",
        "    while i > 0:\n",
        "        sum += 1\n",
        "        i = i/2\n",
        "    return sum"
      ]
    },
    {
      "cell_type": "code",
      "execution_count": null,
      "metadata": {
        "id": "12dfYMlJdd_D"
      },
      "outputs": [],
      "source": [
        "# O(log(n))\n",
        "def m12(n: int):\n",
        "    rounds = 1\n",
        "    sum = 0\n",
        "    while rounds < n:\n",
        "        sum += 1\n",
        "        rounds = 10*rounds\n",
        "    return sum"
      ]
    },
    {
      "cell_type": "code",
      "execution_count": 1,
      "metadata": {
        "colab": {
          "base_uri": "https://localhost:8080/",
          "height": 698
        },
        "id": "FKogsR6sfAIF",
        "outputId": "af158a7d-8a4d-4013-f89b-fdb189a6ab59"
      },
      "outputs": [
        {
          "ename": "NameError",
          "evalue": "name 'plt' is not defined",
          "output_type": "error",
          "traceback": [
            "\u001b[1;31m---------------------------------------------------------------------------\u001b[0m",
            "\u001b[1;31mNameError\u001b[0m                                 Traceback (most recent call last)",
            "\u001b[1;32mc:\\Users\\Chissanu Laptop\\Desktop\\School\\PCA\\Week4\\PCA4.ipynb Cell 14\u001b[0m in \u001b[0;36m<cell line: 1>\u001b[1;34m()\u001b[0m\n\u001b[1;32m----> <a href='vscode-notebook-cell:/c%3A/Users/Chissanu%20Laptop/Desktop/School/PCA/Week4/PCA4.ipynb#X16sZmlsZQ%3D%3D?line=0'>1</a>\u001b[0m plt\u001b[39m.\u001b[39mxlabel(\u001b[39m'\u001b[39m\u001b[39mn\u001b[39m\u001b[39m'\u001b[39m)\n\u001b[0;32m      <a href='vscode-notebook-cell:/c%3A/Users/Chissanu%20Laptop/Desktop/School/PCA/Week4/PCA4.ipynb#X16sZmlsZQ%3D%3D?line=1'>2</a>\u001b[0m plt\u001b[39m.\u001b[39mylabel(\u001b[39m'\u001b[39m\u001b[39mtime\u001b[39m\u001b[39m'\u001b[39m)\n\u001b[0;32m      <a href='vscode-notebook-cell:/c%3A/Users/Chissanu%20Laptop/Desktop/School/PCA/Week4/PCA4.ipynb#X16sZmlsZQ%3D%3D?line=2'>3</a>\u001b[0m plt\u001b[39m.\u001b[39maxis([\u001b[39m0\u001b[39m,\u001b[39m100\u001b[39m,\u001b[39m0\u001b[39m,\u001b[39m2\u001b[39m])\n",
            "\u001b[1;31mNameError\u001b[0m: name 'plt' is not defined"
          ]
        }
      ],
      "source": [
        "plt.xlabel('n')\n",
        "plt.ylabel('time')\n",
        "plt.axis([0,100,0,2])\n",
        "plt.show()"
      ]
    }
  ],
  "metadata": {
    "colab": {
      "name": "PCA4.ipynb",
      "provenance": []
    },
    "kernelspec": {
      "display_name": "Python 3.8.5 32-bit",
      "language": "python",
      "name": "python3"
    },
    "language_info": {
      "codemirror_mode": {
        "name": "ipython",
        "version": 3
      },
      "file_extension": ".py",
      "mimetype": "text/x-python",
      "name": "python",
      "nbconvert_exporter": "python",
      "pygments_lexer": "ipython3",
      "version": "3.8.5"
    },
    "vscode": {
      "interpreter": {
        "hash": "0b2a5790bfde211c97e5d50a06c54e141ce170e2a753396db184a6ccd7f94b2c"
      }
    }
  },
  "nbformat": 4,
  "nbformat_minor": 0
}
